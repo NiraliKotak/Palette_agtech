{
 "cells": [
  {
   "cell_type": "code",
   "execution_count": 1,
   "id": "27b67cba",
   "metadata": {},
   "outputs": [
    {
     "name": "stdout",
     "output_type": "stream",
     "text": [
      "Assignment 1 & 2: Solutions by Nirali\n",
      "Local Time: 2023-07-04 09:37:26\n",
      "Computer ID: Niralis-MacBook-Air.local\n"
     ]
    }
   ],
   "source": [
    "import datetime\n",
    "import socket\n",
    "\n",
    "# Get local time\n",
    "local_time = datetime.datetime.now().strftime(\"%Y-%m-%d %H:%M:%S\")\n",
    "\n",
    "# Get computer ID or hostname\n",
    "computer_id = socket.gethostname()\n",
    "\n",
    "# Print output with local time and computer ID\n",
    "print('Assignment 1 & 2: Solutions by Nirali') # Please change your name here\n",
    "print('Local Time:', local_time)\n",
    "print('Computer ID:', computer_id)"
   ]
  },
  {
   "cell_type": "code",
   "execution_count": 5,
   "id": "07d69457",
   "metadata": {},
   "outputs": [
    {
     "name": "stdout",
     "output_type": "stream",
     "text": [
      "Array [[6 6 5 7 7]\n",
      " [4 5 7 7 4]\n",
      " [8 1 6 5 6]\n",
      " [5 3 9 8 4]]\n",
      "Max Integer is  9\n"
     ]
    }
   ],
   "source": [
    "#Create a 2D numpy array of size 4x5 with random integers between 1 and 10. Find the maximum value of the entire array.\n",
    "\n",
    "\n",
    "import numpy as np\n",
    "def create2DArray():\n",
    "    arr_1 = np.random.randint(1,10, size=(4,5))\n",
    "    return arr_1\n",
    "\n",
    "def maxInteger(arr):\n",
    "    return np.max(arr)\n",
    "\n",
    "arr_1 = create2DArray()\n",
    "print(\"Array\", arr_1)\n",
    "print(\"Max Integer is \", maxInteger(arr_1))"
   ]
  },
  {
   "cell_type": "code",
   "execution_count": 10,
   "id": "ca039de5",
   "metadata": {},
   "outputs": [
    {
     "name": "stdout",
     "output_type": "stream",
     "text": [
      "1D array\n",
      "  [0.52455828 0.68868071 0.42542232 0.89398727 0.92845714 0.68431127\n",
      " 0.53112239 0.99642482 0.33140482 0.37860134 0.92609032 0.1108722\n",
      " 0.0124561  0.95960694 0.92256082 0.63310258 0.65889992 0.03488827\n",
      " 0.19318981 0.70135595]\n",
      "2D array of 4x5\n",
      "  [[0.52455828 0.68868071 0.42542232 0.89398727 0.92845714]\n",
      " [0.68431127 0.53112239 0.99642482 0.33140482 0.37860134]\n",
      " [0.92609032 0.1108722  0.0124561  0.95960694 0.92256082]\n",
      " [0.63310258 0.65889992 0.03488827 0.19318981 0.70135595]]\n",
      "Mean\n",
      " [0.69222114 0.58437293 0.58631728 0.44428731]\n"
     ]
    }
   ],
   "source": [
    "#Create a 1D numpy array of size 20 with random floats between 0 and 1. Reshape the array into a 4x5 matrix. Compute the mean of each row.\n",
    "\n",
    "import numpy as np\n",
    "def createFloatArray(size):\n",
    "    return np.random.random(size)\n",
    "\n",
    "def reshapeArray(arr, row, col):\n",
    "    return arr.reshape(row, col)\n",
    "\n",
    "def calMean(arr):\n",
    "    return np.mean(arr, axis=1)\n",
    "\n",
    "arr_1 = createFloatArray(20)\n",
    "print(\"1D array\\n \",arr_1)\n",
    "reshaped_arr = reshapeArray(arr_1, 4, 5)\n",
    "print(\"2D array of 4x5\\n \", reshaped_arr)\n",
    "print(\"Mean\\n\", calMean(reshaped_arr))\n",
    "    "
   ]
  },
  {
   "cell_type": "code",
   "execution_count": 12,
   "id": "390d3a54",
   "metadata": {},
   "outputs": [
    {
     "name": "stdout",
     "output_type": "stream",
     "text": [
      "Array [[52 97 53 16 78]\n",
      " [39 46 37 11 99]\n",
      " [96 37 60 77  6]\n",
      " [83 26 30 44 32]\n",
      " [63 33 82 97 85]]\n",
      "Standard Deviation is  [20.59708717 25.43540839 18.29316812 33.60357124 35.12833614]\n"
     ]
    }
   ],
   "source": [
    "#Create a 2D numpy array of size 5x5 with random integers between 1 and 100. Compute standard deviation of each column.\n",
    "import numpy as np\n",
    "def create2DArray(row, col):\n",
    "    arr_1 = np.random.randint(1,101, size=(row, col))\n",
    "    return arr_1\n",
    "\n",
    "def stdDev(arr):\n",
    "    return np.std(arr, axis=0)\n",
    "\n",
    "arr_1 = create2DArray(5, 5)\n",
    "print(\"Array\", arr_1)\n",
    "print(\"Standard Deviation is \", stdDev(arr_1))"
   ]
  },
  {
   "cell_type": "code",
   "execution_count": 16,
   "id": "befc9572",
   "metadata": {},
   "outputs": [
    {
     "name": "stdout",
     "output_type": "stream",
     "text": [
      "Original array:\n",
      " [ 9.98922782  2.26997022  8.84472318 -5.49437151 -8.04295277  7.56124326\n",
      " -7.48502766 -3.82261845 -1.6692553  -5.97396423  1.63423407 -0.46682549\n",
      " -0.87836497  5.87929609  0.59667732]\n",
      "Array with absolute\n",
      " [9.98922782 2.26997022 8.84472318 5.49437151 8.04295277 7.56124326\n",
      " 7.48502766 3.82261845 1.6692553  5.97396423 1.63423407 0.46682549\n",
      " 0.87836497 5.87929609 0.59667732]\n"
     ]
    }
   ],
   "source": [
    "#Create a 1D numpy array of size 15 with random floats between -10 and 10. Replace all negative values with their absolute values.\n",
    "\n",
    "import numpy as np\n",
    "\n",
    "# Create a 1D array of size 15 with random floats between -10 and 10\n",
    "def createArray(size):\n",
    "    return np.random.uniform(-10, 10, size=size)\n",
    "\n",
    "# Replace negative values with their absolute values\n",
    "def toAbsolute(arr):\n",
    "    return np.abs(arr)\n",
    "\n",
    "arr_1 = createArray(15)\n",
    "print(\"Original array:\\n\", arr_1)\n",
    "print(\"Array with absolute\\n\", toAbsolute(arr_1))"
   ]
  },
  {
   "cell_type": "code",
   "execution_count": 18,
   "id": "c6368801",
   "metadata": {},
   "outputs": [
    {
     "name": "stdout",
     "output_type": "stream",
     "text": [
      "Original array:\n",
      " [[48 54 43 53  3]\n",
      " [59 25 24 94 72]\n",
      " [55 37 56 12 53]]\n",
      "Sum\n",
      " 688\n"
     ]
    }
   ],
   "source": [
    "#Create a 2D numpy array of size 3x4 with random integers between 1 and 100. Calculate the sum of all elements in the array.\n",
    "\n",
    "import numpy as np\n",
    "\n",
    "def createArray(row, col):\n",
    "    return np.random.randint(1, 101, size=(row,col))\n",
    "\n",
    "def totalSum(arr):\n",
    "    return np.sum(arr)\n",
    "\n",
    "arr_1 = createArray(3,5)\n",
    "print(\"Original array:\\n\", arr_1)\n",
    "print(\"Sum\\n\", totalSum(arr_1))\n"
   ]
  },
  {
   "cell_type": "code",
   "execution_count": 23,
   "id": "439754af",
   "metadata": {},
   "outputs": [
    {
     "name": "stdout",
     "output_type": "stream",
     "text": [
      "[[0.48515004 0.56781908 0.1223856  0.42982557 0.85050157 0.75738485]\n",
      " [0.76975909 0.3514263  0.17189685 0.15933536 0.10366688 0.70761384]\n",
      " [0.6055687  0.94458097 0.44110845 0.14487774 0.10518492 0.64844396]\n",
      " [0.40980995 0.65483084 0.0765316  0.03960104 0.33058296 0.70236038]]\n",
      "\n",
      "\n",
      "Normalized array [[ 1.64112745  0.98156102  1.19418658  0.65045145 -1.0229966  -1.4976838 ]\n",
      " [-1.02461542  0.95331077  0.76820534 -0.34860577 -0.02734916 -0.15067725]\n",
      " [-0.49104055 -1.32511741 -0.81047985 -1.45664707  1.62087285  0.39076819]\n",
      " [-0.12547148 -0.60975438 -1.15191207  1.15480138 -0.5705271   1.25759287]]\n"
     ]
    }
   ],
   "source": [
    "#Create a 2D numpy array of size 4x6 with random floats between 0 and 1. Normalize each column by subtracting the column mean and dividing by the column standard deviation.\n",
    "import numpy as np\n",
    "\n",
    "def createArray(row, col):\n",
    "    return np.random.rand(row, col)\n",
    "\n",
    "def calColMean(arr):\n",
    "    return np.mean(arr, axis=0)\n",
    "\n",
    "def colStdDeviation(arr):\n",
    "    return np.std(arr, axis=0)\n",
    "\n",
    "# Normalize each column\n",
    "def normalizeCol(arr, col_mean, column_std):\n",
    "    arr_normalized = (arr - col_mean) / column_std\n",
    "    return arr_normalized\n",
    "\n",
    "print(createArray(4,6))\n",
    "print(\"\\n\")\n",
    "arr = createArray(4, 6)\n",
    "col_mean = calColMean(arr)\n",
    "col_std = colStdDeviation(arr)\n",
    "print(\"Normalized array\", normalizeCol(arr, col_mean, col_std))"
   ]
  },
  {
   "cell_type": "code",
   "execution_count": 37,
   "id": "ab9c29e5",
   "metadata": {},
   "outputs": [
    {
     "name": "stdout",
     "output_type": "stream",
     "text": [
      "Original array:\n",
      "[[ 21  58  59  15   9  15  90  94  35  39]\n",
      " [ 83  84  10  56  15   9  68   1   8  82]\n",
      " [ 95  44  15  45  80  43  70  13  51  34]\n",
      " [ 53   6  24  24  71  79  28  11  84  17]\n",
      " [  2  32  78  62   8  71  78  23  81  68]\n",
      " [ 46   2  91  18  51  22  37  25  39  30]\n",
      " [ 93  45  32  19   8  55  64  40  12  85]\n",
      " [ 67  17  74  52  10  86  61  28  12  95]\n",
      " [ 20  81  82   3  15  42  14  66  74  76]\n",
      " [ 86  47 100  53  16  36  86  23  35  56]]\n",
      "\n",
      "Modified array:\n",
      "[[0 1 1 0 0 0 1 1 0 0]\n",
      " [1 1 0 1 0 0 1 0 0 1]\n",
      " [1 0 0 0 1 0 1 0 1 0]\n",
      " [1 0 0 0 1 1 0 0 1 0]\n",
      " [0 0 1 1 0 1 1 0 1 1]\n",
      " [0 0 1 0 1 0 0 0 0 0]\n",
      " [1 0 0 0 0 1 1 0 0 1]\n",
      " [1 0 1 1 0 1 1 0 0 1]\n",
      " [0 1 1 0 0 0 0 1 1 1]\n",
      " [1 0 1 1 0 0 1 0 0 1]]\n"
     ]
    }
   ],
   "source": [
    "#Create a 2D numpy array of size 10x10 with random integers between 1 and 100. Replace all values greater than 50 with 1 and all other values with 0.\n",
    "\n",
    "arr = np.random.randint(1, 101, size=(10, 10))\n",
    "\n",
    "# Replace values greater than 50 with 1 and others with 0\n",
    "arr_modified = np.where(arr > 50, 1, 0)\n",
    "\n",
    "print(\"Original array:\")\n",
    "print(arr)\n",
    "print(\"\\nModified array:\")\n",
    "print(arr_modified)\n",
    "\n",
    "\n"
   ]
  },
  {
   "cell_type": "code",
   "execution_count": 35,
   "id": "1844d09d",
   "metadata": {},
   "outputs": [
    {
     "name": "stdout",
     "output_type": "stream",
     "text": [
      "Array\n",
      " [0.63368288 0.60688953 0.48112615 0.33492279 0.99329861 0.18871643\n",
      " 0.17533302 0.26850767 0.8046508  0.75544609 0.55718545 0.88483388\n",
      " 0.95001918 0.96350596 0.00331251 0.6519382  0.69827976 0.18557601\n",
      " 0.61389077 0.12695559 0.75643325 0.80805748 0.71837676 0.69917137\n",
      " 0.57820515 0.77190472 0.0481202  0.59369595 0.98081707 0.29672768\n",
      " 0.217368   0.47139638 0.52927448 0.22958303 0.41073848 0.24568824\n",
      " 0.47032688 0.64212711 0.04400646 0.99571547 0.39742562 0.76307197\n",
      " 0.85112835 0.85085891 0.85274639 0.37359942 0.56964105 0.26718406\n",
      " 0.51567428 0.48080488]\n",
      "Count of number greater than 0.5 is 29\n"
     ]
    }
   ],
   "source": [
    "#Create a 1D numpy array of size 50 with random floats between 0 and 1. Find the number of elements greater than 0.5.\n",
    "\n",
    "def createFloat1DArray(size):\n",
    "    return np.random.random(size)\n",
    "    \n",
    "def returnCountGreaterThan(arr):\n",
    "    count = np.sum(arr > 0.5)\n",
    "    return count\n",
    "    \n",
    "arr = createFloat1DArray(50)\n",
    "print(\"Array\\n\", arr)\n",
    "print(\"Count of number greater than 0.5 is\",returnCountGreaterThan(arr))\n"
   ]
  },
  {
   "cell_type": "code",
   "execution_count": 39,
   "id": "276b23d1",
   "metadata": {},
   "outputs": [
    {
     "name": "stdout",
     "output_type": "stream",
     "text": [
      "Array\n",
      " [[ 0.53698377  0.35852017  0.78769593 -0.52460039  0.73996838]\n",
      " [ 0.4596811  -0.52858361 -0.24644893  0.77379789  0.4926632 ]\n",
      " [ 0.78043035  0.08531258  0.09114224 -0.83972215 -0.30518889]\n",
      " [ 0.64446279 -0.46438479 -0.05793421 -0.81822464  0.3242556 ]\n",
      " [ 0.30741551 -0.40561994  0.94915985 -0.84750221  0.51141674]]\n",
      "Absolute difference between the maximum and minimum values in each row\n",
      " [1.31229632 1.3023815  1.6201525  1.46268743 1.79666206]\n"
     ]
    }
   ],
   "source": [
    "#Create a 2D numpy array of size 5x5 with random floats between -1 and 1. Find the absolute difference between the maximum and minimum values in each row.\n",
    "\n",
    "def createArray(row, col):\n",
    "    return np.random.uniform(-1, 1, size=(row, col))\n",
    "\n",
    "# Calculate the absolute difference between the maximum and minimum values in each row\n",
    "\n",
    "def absDifference(arr):\n",
    "    return np.abs(np.max(arr, axis=1) - np.min(arr, axis=1))\n",
    "\n",
    "arr = createArray(5, 5)\n",
    "print(\"Array\\n\", arr)\n",
    "print(\"Absolute difference between the maximum and minimum values in each row\\n\", absDifference(arr))\n"
   ]
  },
  {
   "cell_type": "code",
   "execution_count": null,
   "id": "77c7b82e",
   "metadata": {},
   "outputs": [],
   "source": []
  }
 ],
 "metadata": {
  "kernelspec": {
   "display_name": "Python 3 (ipykernel)",
   "language": "python",
   "name": "python3"
  },
  "language_info": {
   "codemirror_mode": {
    "name": "ipython",
    "version": 3
   },
   "file_extension": ".py",
   "mimetype": "text/x-python",
   "name": "python",
   "nbconvert_exporter": "python",
   "pygments_lexer": "ipython3",
   "version": "3.10.9"
  }
 },
 "nbformat": 4,
 "nbformat_minor": 5
}
