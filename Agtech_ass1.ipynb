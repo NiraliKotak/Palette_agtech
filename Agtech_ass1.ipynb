{
 "cells": [
  {
   "cell_type": "code",
   "execution_count": 1,
   "id": "24d0450e",
   "metadata": {},
   "outputs": [
    {
     "name": "stdout",
     "output_type": "stream",
     "text": [
      "/Users/niralikotak/anaconda3/bin/python3\r\n"
     ]
    }
   ],
   "source": [
    "!which python3"
   ]
  },
  {
   "cell_type": "code",
   "execution_count": 30,
   "id": "d636c5d0",
   "metadata": {},
   "outputs": [
    {
     "name": "stdout",
     "output_type": "stream",
     "text": [
      "Assignment 1 & 2: Solutions by Nirali\n",
      "Local Time: 2023-06-28 18:14:47\n",
      "Computer ID: Niralis-MacBook-Air.local\n"
     ]
    }
   ],
   "source": [
    "import datetime\n",
    "import socket\n",
    "\n",
    "# Get local time\n",
    "local_time = datetime.datetime.now().strftime(\"%Y-%m-%d %H:%M:%S\")\n",
    "\n",
    "# Get computer ID or hostname\n",
    "computer_id = socket.gethostname()\n",
    "\n",
    "# Print output with local time and computer ID\n",
    "print('Assignment 1 & 2: Solutions by Nirali') # Please change your name here\n",
    "print('Local Time:', local_time)\n",
    "print('Computer ID:', computer_id)"
   ]
  },
  {
   "cell_type": "code",
   "execution_count": 31,
   "id": "470b0b1f",
   "metadata": {},
   "outputs": [
    {
     "name": "stdout",
     "output_type": "stream",
     "text": [
      "WHEAT\n"
     ]
    }
   ],
   "source": [
    "def toUpperCase(cropname):\n",
    "    return cropname.upper()\n",
    "print(toUpperCase(\"wheat\"))"
   ]
  },
  {
   "cell_type": "code",
   "execution_count": 32,
   "id": "79d1e8a2",
   "metadata": {},
   "outputs": [
    {
     "data": {
      "text/plain": [
       "7"
      ]
     },
     "execution_count": 32,
     "metadata": {},
     "output_type": "execute_result"
    }
   ],
   "source": [
    "def totalCrops(crop_list):\n",
    "    return len(crop_list)\n",
    "crops = ['lentil', 'barly', 'canola', 'spring wheat', 'durum wheat', 'oats', 'alfalfa']\n",
    "totalCrops(crops)"
   ]
  },
  {
   "cell_type": "code",
   "execution_count": 33,
   "id": "ae5caf36",
   "metadata": {},
   "outputs": [
    {
     "name": "stdout",
     "output_type": "stream",
     "text": [
      "101.48\n"
     ]
    }
   ],
   "source": [
    "def tempCelToFar(temp):\n",
    "    celcius_temp = temp\n",
    "    f_temp = (celcius_temp*9)/5 + 32\n",
    "    return f_temp\n",
    "print(tempCelToFar(38.6))"
   ]
  },
  {
   "cell_type": "code",
   "execution_count": 34,
   "id": "06fff6a5",
   "metadata": {},
   "outputs": [
    {
     "name": "stdout",
     "output_type": "stream",
     "text": [
      "Moderate\n"
     ]
    }
   ],
   "source": [
    "def cropHarvest(crop_yield):\n",
    "    low_yield = 30\n",
    "    moderate_yield = 80\n",
    "    #crop_yield_dict = {\"low\": 30, \"moderate\": 80, \"high\": 80}\n",
    "    \n",
    "    if crop_yield <= low_yield:\n",
    "        return \"Low\"\n",
    "    elif low_yield < crop_yield <= moderate_yield:\n",
    "        return \"Moderate\"\n",
    "    elif crop_yield > moderate_yield:\n",
    "        return \"High\"\n",
    "    else:\n",
    "        return \"Error\"\n",
    "print(cropHarvest(45))"
   ]
  },
  {
   "cell_type": "code",
   "execution_count": 35,
   "id": "ea81b36c",
   "metadata": {},
   "outputs": [
    {
     "data": {
      "text/plain": [
       "'lentil'"
      ]
     },
     "execution_count": 35,
     "metadata": {},
     "output_type": "execute_result"
    }
   ],
   "source": [
    "soil_type_dict = {\"brown\":\"lentil\",\"dark-brown\":\"oats\",\"black\":\"canola\"}\n",
    "def cropRecommend(soiltype):\n",
    "    return soil_type_dict[soiltype]\n",
    "cropRecommend(\"brown\")"
   ]
  },
  {
   "cell_type": "code",
   "execution_count": 36,
   "id": "8bb2482d",
   "metadata": {},
   "outputs": [
    {
     "name": "stdout",
     "output_type": "stream",
     "text": [
      "['barly', 'canola', 'spring wheat', 'durum wheat', 'oats', 'lentil']\n"
     ]
    }
   ],
   "source": [
    "crop_list = ['lentil', 'barly', 'canola', 'spring wheat', 'durum wheat', 'oats']\n",
    "#oats, barly, canola, spring wheat, drum wheat, oats\n",
    "#temp = lentils\n",
    "def cropRotation(crop_list):\n",
    "    crop_list = crop_list[1:] + crop_list[:1]\n",
    "    return crop_list\n",
    "print(cropRotation(crop_list))        \n",
    "        "
   ]
  },
  {
   "cell_type": "code",
   "execution_count": 37,
   "id": "0c73529b",
   "metadata": {},
   "outputs": [
    {
     "name": "stdout",
     "output_type": "stream",
     "text": [
      "(13, 1.0)\n"
     ]
    }
   ],
   "source": [
    "rainfall_measurement = [1.0,1.2,1.3,1.4,5,13]\n",
    "def rainAnalysis(measurement_list):\n",
    "    return max(measurement_list), min(measurement_list)\n",
    "print(rainAnalysis(rainfall_measurement))"
   ]
  },
  {
   "cell_type": "code",
   "execution_count": 38,
   "id": "6deb16a0",
   "metadata": {},
   "outputs": [
    {
     "data": {
      "text/plain": [
       "'Organic'"
      ]
     },
     "execution_count": 38,
     "metadata": {},
     "output_type": "execute_result"
    }
   ],
   "source": [
    "def pestControl(pest_count):\n",
    "    if pest_count >= 0 and pest_count < 34:\n",
    "        return \"Organic\"\n",
    "    elif pest_count >= 34 and pest_count < 100:\n",
    "        return \"Physical\"\n",
    "    else:\n",
    "        return \"Chemical\"\n",
    "pestControl(0)\n",
    "        \n",
    "    \n",
    "    "
   ]
  },
  {
   "cell_type": "code",
   "execution_count": 40,
   "id": "1841cae4",
   "metadata": {},
   "outputs": [
    {
     "data": {
      "text/plain": [
       "['glyphosate', 'glyphosate', 'quinorac', 'Glyphosate', 'Error']"
      ]
     },
     "execution_count": 40,
     "metadata": {},
     "output_type": "execute_result"
    }
   ],
   "source": [
    "weeds = ['poison_sumac','japanese_knot_weed','crabgrass','dandelions','plantation']\n",
    "def weedControl(weed_list):\n",
    "    weed_control = {\"poison_sumac\":\"glyphosate\",\"japanese_knot_weed\":\"glyphosate\",\"crabgrass\":\"quinorac\",\"dandelions\":\"Glyphosate\"}\n",
    "    x = [weed_control[weed] if weed in weed_control.keys() else \"Error\" for weed in weed_list ]\n",
    "    return x\n",
    "weedControl(weeds)"
   ]
  },
  {
   "cell_type": "code",
   "execution_count": null,
   "id": "38b9c50e",
   "metadata": {},
   "outputs": [],
   "source": []
  },
  {
   "cell_type": "code",
   "execution_count": null,
   "id": "d3bdbadd",
   "metadata": {},
   "outputs": [],
   "source": []
  }
 ],
 "metadata": {
  "kernelspec": {
   "display_name": "Python 3 (ipykernel)",
   "language": "python",
   "name": "python3"
  },
  "language_info": {
   "codemirror_mode": {
    "name": "ipython",
    "version": 3
   },
   "file_extension": ".py",
   "mimetype": "text/x-python",
   "name": "python",
   "nbconvert_exporter": "python",
   "pygments_lexer": "ipython3",
   "version": "3.10.9"
  }
 },
 "nbformat": 4,
 "nbformat_minor": 5
}
